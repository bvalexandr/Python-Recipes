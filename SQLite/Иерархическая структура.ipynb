{
 "cells": [
  {
   "cell_type": "markdown",
   "metadata": {},
   "source": [
    "В самом простом случае создать иерархическую (древовидную) структуру записей в таблице можно с помощью добавления поля, которое будет внешним ключом и ссылаться на родительскую запись этой же таблицы. У родительской записи это поле равно `NULL`."
   ]
  },
  {
   "cell_type": "code",
   "execution_count": 1,
   "metadata": {},
   "outputs": [],
   "source": [
    "import sqlite3\n",
    "\n",
    "with sqlite3.connect(':memory:') as db:\n",
    "    try:\n",
    "        cursor = db.cursor()\n",
    "        cursor.execute(\n",
    "        \"\"\"\n",
    "        CREATE TABLE IF NOT EXISTS tree (id INTEGER PRIMARY KEY AUTOINCREMENT, data TEXT, parent_id INTEGER, FOREIGN KEY (parent_id) REFERENCES tree (id));\n",
    "        \"\"\"\n",
    "        )\n",
    "    except Exception as e:\n",
    "        print(e)\n",
    "    finally:\n",
    "        cursor.close()"
   ]
  },
  {
   "cell_type": "markdown",
   "metadata": {},
   "source": [
    "Далее таблица заполняется данными."
   ]
  },
  {
   "cell_type": "code",
   "execution_count": 2,
   "metadata": {},
   "outputs": [],
   "source": [
    "data = [\n",
    "    ('parent_1', None),\n",
    "    ('parent_2', None),\n",
    "    ('parent_3', None),\n",
    "    ('children_1', 1),\n",
    "    ('children_2', 1),\n",
    "    ('children_3', 3),\n",
    "    ('children_4', 2),\n",
    "    ('children_5', 1),\n",
    "]\n",
    "\n",
    "try:\n",
    "    cursor = db.cursor()\n",
    "    cursor.executemany(\n",
    "    \"\"\"\n",
    "    INSERT INTO tree (data, parent_id) VALUES (?, ?);\n",
    "    \"\"\",\n",
    "    data\n",
    "    )\n",
    "except Exception as e:\n",
    "    print(e)\n",
    "finally:\n",
    "    cursor.close()"
   ]
  },
  {
   "cell_type": "markdown",
   "metadata": {},
   "source": [
    "Данные можно запросить простым запросом."
   ]
  },
  {
   "cell_type": "code",
   "execution_count": 8,
   "metadata": {},
   "outputs": [
    {
     "name": "stdout",
     "output_type": "stream",
     "text": [
      "(1, 'parent_1', None)\n",
      "(2, 'parent_2', None)\n",
      "(3, 'parent_3', None)\n",
      "(4, 'children_1', 1)\n",
      "(5, 'children_2', 1)\n",
      "(6, 'children_3', 3)\n",
      "(7, 'children_4', 2)\n",
      "(8, 'children_5', 1)\n"
     ]
    }
   ],
   "source": [
    "try:\n",
    "    cursor = db.cursor()\n",
    "    data = cursor.execute(\n",
    "    \"\"\"\n",
    "    SELECT * FROM tree;\n",
    "    \"\"\"\n",
    "    ).fetchall()\n",
    "    for i in data:\n",
    "        print(i)\n",
    "except Exception as e:\n",
    "    print(e)\n",
    "finally:\n",
    "    cursor.close()"
   ]
  },
  {
   "cell_type": "markdown",
   "metadata": {},
   "source": [
    "При необходимости можно выбрать все родительские элементы и все их дочерние элементы."
   ]
  },
  {
   "cell_type": "code",
   "execution_count": 39,
   "metadata": {},
   "outputs": [
    {
     "name": "stdout",
     "output_type": "stream",
     "text": [
      "(1, 'parent_1', None)\n",
      "     (4, 'children_1', 1)\n",
      "     (5, 'children_2', 1)\n",
      "     (8, 'children_5', 1)\n",
      "(2, 'parent_2', None)\n",
      "     (7, 'children_4', 2)\n",
      "(3, 'parent_3', None)\n",
      "     (6, 'children_3', 3)\n"
     ]
    }
   ],
   "source": [
    "parent_list = [i for i in data if i[2] == None]\n",
    "\n",
    "for parent in parent_list:\n",
    "    children = [i for i in data if i[2] == parent[0]]\n",
    "    print(parent)\n",
    "    for ch in children:\n",
    "        print(\"    \", ch)"
   ]
  }
 ],
 "metadata": {
  "kernelspec": {
   "display_name": "Python 3",
   "language": "python",
   "name": "python3"
  },
  "language_info": {
   "codemirror_mode": {
    "name": "ipython",
    "version": 3
   },
   "file_extension": ".py",
   "mimetype": "text/x-python",
   "name": "python",
   "nbconvert_exporter": "python",
   "pygments_lexer": "ipython3",
   "version": "3.8.0"
  },
  "orig_nbformat": 4
 },
 "nbformat": 4,
 "nbformat_minor": 2
}
