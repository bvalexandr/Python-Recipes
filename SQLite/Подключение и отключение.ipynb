{
 "cells": [
  {
   "cell_type": "markdown",
   "metadata": {},
   "source": [
    "Для работы с базой данных SQLite в Python есть стандартный модуль sqlite3.\n",
    "\n",
    "Общий принцип работы состоит в том, что мы подключаемся к базе данных и отправляем курсору SQL-команды. После использования базы данных курсор и подключение закрываются.\n",
    "\n",
    "При подключении указывается имя и путь к базе данных. Если база данных не существует, то Python создаст её автоматически."
   ]
  },
  {
   "cell_type": "markdown",
   "metadata": {},
   "source": [
    "Пример подключения и отключения.\n",
    "\n",
    "База данных создается в оперативной памяти (`':memory:'`)."
   ]
  },
  {
   "cell_type": "code",
   "execution_count": 1,
   "metadata": {},
   "outputs": [],
   "source": [
    "import sqlite3\n",
    "\n",
    "\n",
    "db = sqlite3.connect(':memory:')\n",
    "\n",
    "# Работа с базой данных\n",
    "\n",
    "db.close()"
   ]
  },
  {
   "cell_type": "markdown",
   "metadata": {},
   "source": [
    "Подключение к базе данных часто производится с помощью менеджера контекста `with`."
   ]
  },
  {
   "cell_type": "code",
   "execution_count": 3,
   "metadata": {},
   "outputs": [],
   "source": [
    "import sqlite3\n",
    "\n",
    "\n",
    "with sqlite3.connect(':memory:') as db:\n",
    "    # Работа с базой данных\n",
    "    ..."
   ]
  }
 ],
 "metadata": {
  "kernelspec": {
   "display_name": "Python 3",
   "language": "python",
   "name": "python3"
  },
  "language_info": {
   "codemirror_mode": {
    "name": "ipython",
    "version": 3
   },
   "file_extension": ".py",
   "mimetype": "text/x-python",
   "name": "python",
   "nbconvert_exporter": "python",
   "pygments_lexer": "ipython3",
   "version": "3.8.0"
  },
  "orig_nbformat": 4
 },
 "nbformat": 4,
 "nbformat_minor": 2
}
