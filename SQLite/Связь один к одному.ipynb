{
 "cells": [
  {
   "cell_type": "markdown",
   "metadata": {},
   "source": [
    "Связь \"один к одному\" (one to one) это тип связи, когда одной записи родительской таблицы соответствует одна запись дочерней таблицы.\n",
    "\n",
    "Для создания такой связи необходимо в дочерней таблице определить поле, которое будет ссылаться на поле в родительской таблице."
   ]
  },
  {
   "cell_type": "code",
   "execution_count": 10,
   "metadata": {},
   "outputs": [],
   "source": [
    "import sqlite3\n",
    "\n",
    "\n",
    "with sqlite3.connect(':memory:') as db:\n",
    "    # Создаем родительскую таблицу\n",
    "    try:\n",
    "        cursor = db.cursor()\n",
    "        cursor.execute(\n",
    "        \"\"\"\n",
    "        CREATE TABLE IF NOT EXISTS users (id INTEGER PRIMARY KEY AUTOINCREMENT, name TEXT);\n",
    "        \"\"\"\n",
    "        )\n",
    "    except Exception as e:\n",
    "        print(e)\n",
    "    finally:\n",
    "        cursor.close()\n",
    "\n",
    "    # Создаем дочернюю таблицу. Поле user_id ссылается на поле id таблицы users\n",
    "    try:\n",
    "        cursor = db.cursor()\n",
    "        cursor.execute(\n",
    "        \"\"\"\n",
    "        CREATE TABLE IF NOT EXISTS users_data (id INTEGER PRIMARY KEY AUTOINCREMENT, city TEXT, passport_number TEXT, user_id INTEGER, FOREIGN KEY (user_id) REFERENCES users (id));\n",
    "        \"\"\"\n",
    "        )\n",
    "    except Exception as e:\n",
    "        print(e)\n",
    "    finally:\n",
    "        cursor.close()"
   ]
  },
  {
   "cell_type": "markdown",
   "metadata": {},
   "source": [
    "При заполнении таблиц данными нужно учитывать, что каждая запись дочерней таблицы ссылается на соответствующую запись родительской.\n",
    "\n",
    "Обычно значение внешнего ключа дочерней таблицы напрямую соотносится со значением первичного ключа родительской таблицы."
   ]
  },
  {
   "cell_type": "code",
   "execution_count": 13,
   "metadata": {},
   "outputs": [],
   "source": [
    "# Заполним таблицы данными\n",
    "users = [\n",
    "    ('user_1',),\n",
    "    ('user_2',),\n",
    "    ('user_3',),\n",
    "    ('user_4',),\n",
    "]\n",
    "\n",
    "users_data = [\n",
    "    ('city_1', 'passport_1', 1),\n",
    "    ('city_2', 'passport_2', 2),\n",
    "    ('city_3', 'passport_3', 3),\n",
    "    ('city_4', 'passport_4', 4),\n",
    "]\n",
    "\n",
    "try:\n",
    "    cursor = db.cursor()\n",
    "    cursor.executemany(\n",
    "    \"\"\"\n",
    "    INSERT INTO users (name) VALUES (?);\n",
    "    \"\"\",\n",
    "    users\n",
    "    )\n",
    "    cursor.executemany(\n",
    "    \"\"\"\n",
    "    INSERT INTO users_data (city, passport_number, user_id) VALUES (?, ?, ?);\n",
    "    \"\"\",\n",
    "    users_data)\n",
    "except Exception as e:\n",
    "    print(e)\n",
    "finally:\n",
    "    cursor.close()"
   ]
  },
  {
   "cell_type": "markdown",
   "metadata": {},
   "source": [
    "Собственно для нас наиболее важен запрос на извлечение данных из таблицы. Для этого мы указываем необходимые поля и определяем условие выборки (в нашем случае) как значение_внешнего_ключа_дочерней_таблицы=значение_первичного_ключа_родительской_таблицы."
   ]
  },
  {
   "cell_type": "code",
   "execution_count": 12,
   "metadata": {},
   "outputs": [
    {
     "name": "stdout",
     "output_type": "stream",
     "text": [
      "[('user_1', 'city_1', 'passport_1'), ('user_2', 'city_2', 'passport_2'), ('user_3', 'city_3', 'passport_3'), ('user_4', 'city_4', 'passport_4')]\n"
     ]
    }
   ],
   "source": [
    "# Извлечем данные из таблицы\n",
    "try:\n",
    "    cursor = db.cursor()\n",
    "    data = cursor.execute(\n",
    "    \"\"\"\n",
    "    SELECT users.name, users_data.city, users_data.passport_number from users, users_data WHERE users.id = users_data.user_id;\n",
    "    \"\"\"\n",
    "    ).fetchall()\n",
    "    print(data)\n",
    "except Exception as e:\n",
    "    print(e)\n",
    "finally:\n",
    "    cursor.close()"
   ]
  }
 ],
 "metadata": {
  "kernelspec": {
   "display_name": "Python 3",
   "language": "python",
   "name": "python3"
  },
  "language_info": {
   "codemirror_mode": {
    "name": "ipython",
    "version": 3
   },
   "file_extension": ".py",
   "mimetype": "text/x-python",
   "name": "python",
   "nbconvert_exporter": "python",
   "pygments_lexer": "ipython3",
   "version": "3.8.0"
  },
  "orig_nbformat": 4
 },
 "nbformat": 4,
 "nbformat_minor": 2
}
