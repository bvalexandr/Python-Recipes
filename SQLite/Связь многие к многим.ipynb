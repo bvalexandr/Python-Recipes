{
 "cells": [
  {
   "cell_type": "markdown",
   "metadata": {},
   "source": [
    "Связь многие ко многим (many to many) это тип связи, когда нет родительских и дочерних таблиц. Любой записи таблицы А могут соответствовать несколько записей таблицы Б, и в то же время любой записи таблицы Б могут соответствовать несколько записей таблицы А.\n",
    "\n",
    "Для создания такого типа связи используют вспомогательную таблицу в которой ключевое поле таблицы А соотносится с ключевым полем таблицы Б."
   ]
  },
  {
   "cell_type": "markdown",
   "metadata": {},
   "source": [
    "Создадим главные таблицы, между которыми будет связь многие ко многим."
   ]
  },
  {
   "cell_type": "code",
   "execution_count": 1,
   "metadata": {},
   "outputs": [],
   "source": [
    "import sqlite3\n",
    "\n",
    "# Создаем основные таблицы\n",
    "with sqlite3.connect(':memory:') as db:\n",
    "    try:\n",
    "        cursor = db.cursor()\n",
    "        cursor.execute(\n",
    "        \"\"\"\n",
    "        CREATE TABLE IF NOT EXISTS tags (id INTEGER PRIMARY KEY AUTOINCREMENT, tag_name TEXT);\n",
    "        \"\"\"\n",
    "        )\n",
    "\n",
    "        cursor.execute(\n",
    "        \"\"\"\n",
    "        CREATE TABLE IF NOT EXISTS posts (id INTEGER PRIMARY KEY AUTOINCREMENT, post_title TEXT, post_content TEXT);\n",
    "        \"\"\"\n",
    "        )\n",
    "    except Exception as e:\n",
    "        print(e)\n",
    "    finally:\n",
    "        cursor.close()"
   ]
  },
  {
   "cell_type": "markdown",
   "metadata": {},
   "source": [
    "Создадим вспомогательную таблицу, которая будет содержать связи между записями в главных таблицах.\n",
    "\n",
    "Здесь мы создаем перекрестные ссылки и указываем ограничение `CONSTRAIT` на первичный ключ `tags_post_pk`, чтобы его можно было создавать только если существуют записи `tag_id` и `post_id`."
   ]
  },
  {
   "cell_type": "code",
   "execution_count": 2,
   "metadata": {},
   "outputs": [],
   "source": [
    "# Создадим вспомогательную таблицу\n",
    "try:\n",
    "    cursor = db.cursor()\n",
    "    cursor.execute(\n",
    "    \"\"\"\n",
    "    CREATE TABLE IF NOT EXISTS tags_posts (tag_id INTEGER, post_id INTEGER,\n",
    "    FOREIGN KEY (tag_id) REFERENCES posts (id),\n",
    "    FOREIGN KEY (post_id) REFERENCES tags (id),\n",
    "    CONSTRAINT tags_post_pk PRIMARY KEY (tag_id, post_id));\n",
    "    \"\"\"\n",
    "    )\n",
    "except Exception as e:\n",
    "    print(e)\n",
    "finally:\n",
    "    cursor.close()"
   ]
  },
  {
   "cell_type": "markdown",
   "metadata": {},
   "source": [
    "Заполним главные таблицы такими данными, которые имеют между собой связь многие к многим."
   ]
  },
  {
   "cell_type": "code",
   "execution_count": 3,
   "metadata": {},
   "outputs": [],
   "source": [
    "# Заполним основные таблицы данными\n",
    "tags = [\n",
    "    ('Flask',),\n",
    "    ('Django',),\n",
    "    ('Docker',),\n",
    "]\n",
    "posts = [\n",
    "    ('Docker и Flask', 'Контейнеризация приложений Flask'),\n",
    "    ('Docker и Django', 'Контейнеризация приложений Django'),\n",
    "    ('Основы Flask', 'Основы фреймворка Flask'),\n",
    "    ('Основы Django', 'Основы фреймворка Django'),\n",
    "    ('Основы Docker', 'Основы Docker'),\n",
    "]\n",
    "\n",
    "try:\n",
    "    cursor = db.cursor()\n",
    "    cursor.executemany(\n",
    "    \"\"\"\n",
    "    INSERT INTO tags (tag_name) VALUES (?);\n",
    "    \"\"\",\n",
    "    tags\n",
    "    )\n",
    "    cursor.executemany(\n",
    "    \"\"\"\n",
    "    INSERT INTO posts (post_title, post_content) VALUES (?, ?);\n",
    "    \"\"\",\n",
    "    posts\n",
    "    )\n",
    "except Exception as e:\n",
    "    print(e)\n",
    "finally:\n",
    "    cursor.close()"
   ]
  },
  {
   "cell_type": "markdown",
   "metadata": {},
   "source": [
    "Заполним вспомогательную таблицу.\n",
    "\n",
    "При этом если мы допустим ошибку, указав несуществующий ключ для любой из главных таблиц, то связь просто не будет создана."
   ]
  },
  {
   "cell_type": "code",
   "execution_count": 4,
   "metadata": {},
   "outputs": [],
   "source": [
    "# Заполним вспомогательную таблицу связями\n",
    "links = [\n",
    "    (1, 1),\n",
    "    (1, 3),\n",
    "    (2, 2),\n",
    "    (2, 4),\n",
    "    (3, 1),\n",
    "    (3, 2),\n",
    "    (3, 5),\n",
    "]\n",
    "\n",
    "try:\n",
    "    cursor = db.cursor()\n",
    "    cursor.executemany(\n",
    "    \"\"\"\n",
    "    INSERT INTO tags_posts (tag_id, post_id) VALUES (?, ?);\n",
    "    \"\"\",\n",
    "    links\n",
    "    )\n",
    "except Exception as e:\n",
    "    print(e)\n",
    "finally:\n",
    "    cursor.close()"
   ]
  },
  {
   "cell_type": "markdown",
   "metadata": {},
   "source": [
    "Самым главным является правильно оформить запрос к базе данных.\n",
    "\n",
    "Мы выбираем нужные поля из таблиц (строка 1), затем выбираем записи из `tags_posts` которые относятся к одному `post.id` (строка 2) и уже из этих записей выбирает те, у которых `tag_id` относится к отдельному тегу (строка 3)."
   ]
  },
  {
   "cell_type": "code",
   "execution_count": 9,
   "metadata": {},
   "outputs": [
    {
     "name": "stdout",
     "output_type": "stream",
     "text": [
      "('Docker и Flask', 'Контейнеризация приложений Flask', 'Flask')\n",
      "('Docker и Flask', 'Контейнеризация приложений Flask', 'Docker')\n",
      "('Docker и Django', 'Контейнеризация приложений Django', 'Django')\n",
      "('Docker и Django', 'Контейнеризация приложений Django', 'Docker')\n",
      "('Основы Flask', 'Основы фреймворка Flask', 'Flask')\n",
      "('Основы Django', 'Основы фреймворка Django', 'Django')\n",
      "('Основы Docker', 'Основы Docker', 'Docker')\n"
     ]
    }
   ],
   "source": [
    "# Сделаем выборку записей из таблиц\n",
    "try:\n",
    "    cursor = db.cursor()\n",
    "    data = cursor.execute(\n",
    "    \"\"\"\n",
    "    SELECT posts.post_title, posts.post_content, tags.tag_name FROM posts\n",
    "    LEFT JOIN tags_posts ON tags_posts.post_id = posts.id\n",
    "    LEFT JOIN tags ON tags_posts.tag_id = tags.id;\n",
    "    \"\"\"\n",
    "    ).fetchall()\n",
    "    for i in data:\n",
    "        print(i)\n",
    "except Exception as e:\n",
    "    print(e)\n",
    "finally:\n",
    "    cursor.close()"
   ]
  }
 ],
 "metadata": {
  "kernelspec": {
   "display_name": "Python 3",
   "language": "python",
   "name": "python3"
  },
  "language_info": {
   "codemirror_mode": {
    "name": "ipython",
    "version": 3
   },
   "file_extension": ".py",
   "mimetype": "text/x-python",
   "name": "python",
   "nbconvert_exporter": "python",
   "pygments_lexer": "ipython3",
   "version": "3.8.0"
  },
  "orig_nbformat": 4
 },
 "nbformat": 4,
 "nbformat_minor": 2
}
